{
 "cells": [
  {
   "cell_type": "code",
   "execution_count": 3,
   "id": "87dbed06-5ef1-4286-a66c-b0d710a3c19e",
   "metadata": {},
   "outputs": [
    {
     "name": "stdin",
     "output_type": "stream",
     "text": [
      "please enter the url or article link for sentiment analysis\n",
      " https://www.cdc.gov/ncird/whats-new/covid-19-variant-update-2024-02-09.html\n"
     ]
    },
    {
     "name": "stdout",
     "output_type": "stream",
     "text": [
      "CDC is working closely with partners in South Africa to gather the latest information on BA.2.87.1.\n",
      "BA.2.87.1, a new variant of SARS-CoV-2, the virus that causes COVID-19, was identified in South Africa by the National Institute for Communicable Diseases .\n",
      "CDC is closely tracking this variant because of the large number of mutations when compared to previous variants.\n",
      "CDC is tracking BA.2.87.1CDC is tracking and analyzing BA.2.87.1, a new variant of SARS-CoV-2, the virus that causes COVID-19.\n",
      "CDC is closely tracking BA.2.87.1 because it has over 30 changes in the spike protein of the virus when compared to XBB.1.5, the variant that the updated (2023-2024) vaccine is designed to protect against.\n",
      "0.1640692640692641\n"
     ]
    }
   ],
   "source": [
    "from textblob import TextBlob\n",
    "from newspaper import Article\n",
    "\n",
    "url=str(input(\"please enter the url or article link for sentiment analysis\\n\"))\n",
    "article=Article(url) #creating article object for the url\n",
    "\n",
    "article.download()\n",
    "article.parse()\n",
    "article.nlp()\n",
    "\n",
    "text=article.summary\n",
    "print(text)\n",
    "\n",
    "blob=TextBlob(text)\n",
    "sentiment=blob.sentiment.polarity #-1 to 1\n",
    "print(sentiment)"
   ]
  },
  {
   "cell_type": "code",
   "execution_count": null,
   "id": "bb09badd-f9d7-4bc6-b953-564770c735bb",
   "metadata": {},
   "outputs": [],
   "source": []
  }
 ],
 "metadata": {
  "kernelspec": {
   "display_name": "Python 3 (ipykernel)",
   "language": "python",
   "name": "python3"
  },
  "language_info": {
   "codemirror_mode": {
    "name": "ipython",
    "version": 3
   },
   "file_extension": ".py",
   "mimetype": "text/x-python",
   "name": "python",
   "nbconvert_exporter": "python",
   "pygments_lexer": "ipython3",
   "version": "3.11.7"
  }
 },
 "nbformat": 4,
 "nbformat_minor": 5
}
